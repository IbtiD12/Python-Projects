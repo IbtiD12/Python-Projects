{
 "cells": [
  {
   "cell_type": "markdown",
   "id": "46379d9b",
   "metadata": {},
   "source": [
    "# Fraud Detection"
   ]
  },
  {
   "cell_type": "markdown",
   "id": "a9593a51",
   "metadata": {},
   "source": [
    "### Introduction:\n",
    "\n",
    "Fraud detection in financial transactions remains a formidable challenge, characterized by its dynamic nature and the ever-evolving tactics of fraudsters. Traditional rule-based systems, while useful, often fall short in adapting to new fraud patterns, leading to delayed detection and significant financial losses. Moreover, the high volume of transactions in today's digital economy necessitates an efficient and scalable solution."
   ]
  },
  {
   "cell_type": "markdown",
   "id": "133878f3",
   "metadata": {},
   "source": [
    "Key Factors:\n",
    "\n",
    "- Handling highly imbalanced data\n",
    "- We want to catch as many frauds as possible i.e. reduce the False negatives"
   ]
  },
  {
   "cell_type": "markdown",
   "id": "041038b9",
   "metadata": {},
   "source": [
    "### Business problems I am trying to find\n",
    "\n",
    "-What is the distribution of transaction amounts for fraudulent versus non-fraudulent transactions?\n",
    "\n",
    "-Find the best model\n",
    "\n",
    "-Calculate potential savings from prevented fraud and compare it to losses from undetected fraudulent transactions."
   ]
  },
  {
   "cell_type": "markdown",
   "id": "92a3e2b9",
   "metadata": {},
   "source": [
    "Data Source\n",
    "\n",
    "The project uses a dataset of around 284000 credit card transactions which have been taken from Kaggle (https://www.kaggle.com/datasets/mlg-ulb/creditcardfraud/data)."
   ]
  },
  {
   "cell_type": "markdown",
   "id": "60073d7b",
   "metadata": {},
   "source": [
    "# Analysis"
   ]
  },
  {
   "cell_type": "code",
   "execution_count": null,
   "id": "7266139b",
   "metadata": {
    "scrolled": true
   },
   "outputs": [],
   "source": [
    "!pip install imbalanced-learn\n",
    "!pip install imblearn\n",
    "!pip install xgboost\n",
    "\n",
    "#warnings.filterwarnings('ignore')"
   ]
  },
  {
   "cell_type": "code",
   "execution_count": 1,
   "id": "71a8ce1c",
   "metadata": {},
   "outputs": [],
   "source": [
    "import pandas as pd\n",
    "import matplotlib.pyplot as plt\n",
    "import numpy as np\n",
    "from imblearn.over_sampling import SMOTE\n",
    "from sklearn.model_selection import train_test_split\n",
    "from sklearn.linear_model import LogisticRegression\n",
    "from sklearn.tree import DecisionTreeClassifier\n",
    "from sklearn.ensemble import RandomForestClassifier\n",
    "from sklearn.metrics import classification_report, confusion_matrix, recall_score\n",
    "from imblearn.pipeline import Pipeline \n",
    "from sklearn.metrics import precision_recall_curve\n",
    "from sklearn.metrics import average_precision_score\n",
    "import seaborn as sns\n",
    "from xgboost import XGBClassifier\n",
    "#warnings.filterwarnings('ignore')"
   ]
  },
  {
   "cell_type": "code",
   "execution_count": 2,
   "id": "d5ec61e1",
   "metadata": {},
   "outputs": [
    {
     "data": {
      "text/plain": [
       "(284807, 31)"
      ]
     },
     "execution_count": 2,
     "metadata": {},
     "output_type": "execute_result"
    }
   ],
   "source": [
    "df = pd.read_csv(\"creditcard.csv\")\n",
    "df.shape"
   ]
  },
  {
   "cell_type": "markdown",
   "id": "4a7e1aae",
   "metadata": {},
   "source": [
    "## EDA"
   ]
  },
  {
   "cell_type": "code",
   "execution_count": 3,
   "id": "fae79dba",
   "metadata": {
    "scrolled": true
   },
   "outputs": [
    {
     "data": {
      "text/html": [
       "<div>\n",
       "<style scoped>\n",
       "    .dataframe tbody tr th:only-of-type {\n",
       "        vertical-align: middle;\n",
       "    }\n",
       "\n",
       "    .dataframe tbody tr th {\n",
       "        vertical-align: top;\n",
       "    }\n",
       "\n",
       "    .dataframe thead th {\n",
       "        text-align: right;\n",
       "    }\n",
       "</style>\n",
       "<table border=\"1\" class=\"dataframe\">\n",
       "  <thead>\n",
       "    <tr style=\"text-align: right;\">\n",
       "      <th></th>\n",
       "      <th>Time</th>\n",
       "      <th>V1</th>\n",
       "      <th>V2</th>\n",
       "      <th>V3</th>\n",
       "      <th>V4</th>\n",
       "      <th>V5</th>\n",
       "      <th>V6</th>\n",
       "      <th>V7</th>\n",
       "      <th>V8</th>\n",
       "      <th>V9</th>\n",
       "      <th>...</th>\n",
       "      <th>V21</th>\n",
       "      <th>V22</th>\n",
       "      <th>V23</th>\n",
       "      <th>V24</th>\n",
       "      <th>V25</th>\n",
       "      <th>V26</th>\n",
       "      <th>V27</th>\n",
       "      <th>V28</th>\n",
       "      <th>Amount</th>\n",
       "      <th>Class</th>\n",
       "    </tr>\n",
       "  </thead>\n",
       "  <tbody>\n",
       "    <tr>\n",
       "      <th>0</th>\n",
       "      <td>0.0</td>\n",
       "      <td>-1.359807</td>\n",
       "      <td>-0.072781</td>\n",
       "      <td>2.536347</td>\n",
       "      <td>1.378155</td>\n",
       "      <td>-0.338321</td>\n",
       "      <td>0.462388</td>\n",
       "      <td>0.239599</td>\n",
       "      <td>0.098698</td>\n",
       "      <td>0.363787</td>\n",
       "      <td>...</td>\n",
       "      <td>-0.018307</td>\n",
       "      <td>0.277838</td>\n",
       "      <td>-0.110474</td>\n",
       "      <td>0.066928</td>\n",
       "      <td>0.128539</td>\n",
       "      <td>-0.189115</td>\n",
       "      <td>0.133558</td>\n",
       "      <td>-0.021053</td>\n",
       "      <td>149.62</td>\n",
       "      <td>0</td>\n",
       "    </tr>\n",
       "    <tr>\n",
       "      <th>1</th>\n",
       "      <td>0.0</td>\n",
       "      <td>1.191857</td>\n",
       "      <td>0.266151</td>\n",
       "      <td>0.166480</td>\n",
       "      <td>0.448154</td>\n",
       "      <td>0.060018</td>\n",
       "      <td>-0.082361</td>\n",
       "      <td>-0.078803</td>\n",
       "      <td>0.085102</td>\n",
       "      <td>-0.255425</td>\n",
       "      <td>...</td>\n",
       "      <td>-0.225775</td>\n",
       "      <td>-0.638672</td>\n",
       "      <td>0.101288</td>\n",
       "      <td>-0.339846</td>\n",
       "      <td>0.167170</td>\n",
       "      <td>0.125895</td>\n",
       "      <td>-0.008983</td>\n",
       "      <td>0.014724</td>\n",
       "      <td>2.69</td>\n",
       "      <td>0</td>\n",
       "    </tr>\n",
       "    <tr>\n",
       "      <th>2</th>\n",
       "      <td>1.0</td>\n",
       "      <td>-1.358354</td>\n",
       "      <td>-1.340163</td>\n",
       "      <td>1.773209</td>\n",
       "      <td>0.379780</td>\n",
       "      <td>-0.503198</td>\n",
       "      <td>1.800499</td>\n",
       "      <td>0.791461</td>\n",
       "      <td>0.247676</td>\n",
       "      <td>-1.514654</td>\n",
       "      <td>...</td>\n",
       "      <td>0.247998</td>\n",
       "      <td>0.771679</td>\n",
       "      <td>0.909412</td>\n",
       "      <td>-0.689281</td>\n",
       "      <td>-0.327642</td>\n",
       "      <td>-0.139097</td>\n",
       "      <td>-0.055353</td>\n",
       "      <td>-0.059752</td>\n",
       "      <td>378.66</td>\n",
       "      <td>0</td>\n",
       "    </tr>\n",
       "    <tr>\n",
       "      <th>3</th>\n",
       "      <td>1.0</td>\n",
       "      <td>-0.966272</td>\n",
       "      <td>-0.185226</td>\n",
       "      <td>1.792993</td>\n",
       "      <td>-0.863291</td>\n",
       "      <td>-0.010309</td>\n",
       "      <td>1.247203</td>\n",
       "      <td>0.237609</td>\n",
       "      <td>0.377436</td>\n",
       "      <td>-1.387024</td>\n",
       "      <td>...</td>\n",
       "      <td>-0.108300</td>\n",
       "      <td>0.005274</td>\n",
       "      <td>-0.190321</td>\n",
       "      <td>-1.175575</td>\n",
       "      <td>0.647376</td>\n",
       "      <td>-0.221929</td>\n",
       "      <td>0.062723</td>\n",
       "      <td>0.061458</td>\n",
       "      <td>123.50</td>\n",
       "      <td>0</td>\n",
       "    </tr>\n",
       "    <tr>\n",
       "      <th>4</th>\n",
       "      <td>2.0</td>\n",
       "      <td>-1.158233</td>\n",
       "      <td>0.877737</td>\n",
       "      <td>1.548718</td>\n",
       "      <td>0.403034</td>\n",
       "      <td>-0.407193</td>\n",
       "      <td>0.095921</td>\n",
       "      <td>0.592941</td>\n",
       "      <td>-0.270533</td>\n",
       "      <td>0.817739</td>\n",
       "      <td>...</td>\n",
       "      <td>-0.009431</td>\n",
       "      <td>0.798278</td>\n",
       "      <td>-0.137458</td>\n",
       "      <td>0.141267</td>\n",
       "      <td>-0.206010</td>\n",
       "      <td>0.502292</td>\n",
       "      <td>0.219422</td>\n",
       "      <td>0.215153</td>\n",
       "      <td>69.99</td>\n",
       "      <td>0</td>\n",
       "    </tr>\n",
       "  </tbody>\n",
       "</table>\n",
       "<p>5 rows × 31 columns</p>\n",
       "</div>"
      ],
      "text/plain": [
       "   Time        V1        V2        V3        V4        V5        V6        V7  \\\n",
       "0   0.0 -1.359807 -0.072781  2.536347  1.378155 -0.338321  0.462388  0.239599   \n",
       "1   0.0  1.191857  0.266151  0.166480  0.448154  0.060018 -0.082361 -0.078803   \n",
       "2   1.0 -1.358354 -1.340163  1.773209  0.379780 -0.503198  1.800499  0.791461   \n",
       "3   1.0 -0.966272 -0.185226  1.792993 -0.863291 -0.010309  1.247203  0.237609   \n",
       "4   2.0 -1.158233  0.877737  1.548718  0.403034 -0.407193  0.095921  0.592941   \n",
       "\n",
       "         V8        V9  ...       V21       V22       V23       V24       V25  \\\n",
       "0  0.098698  0.363787  ... -0.018307  0.277838 -0.110474  0.066928  0.128539   \n",
       "1  0.085102 -0.255425  ... -0.225775 -0.638672  0.101288 -0.339846  0.167170   \n",
       "2  0.247676 -1.514654  ...  0.247998  0.771679  0.909412 -0.689281 -0.327642   \n",
       "3  0.377436 -1.387024  ... -0.108300  0.005274 -0.190321 -1.175575  0.647376   \n",
       "4 -0.270533  0.817739  ... -0.009431  0.798278 -0.137458  0.141267 -0.206010   \n",
       "\n",
       "        V26       V27       V28  Amount  Class  \n",
       "0 -0.189115  0.133558 -0.021053  149.62      0  \n",
       "1  0.125895 -0.008983  0.014724    2.69      0  \n",
       "2 -0.139097 -0.055353 -0.059752  378.66      0  \n",
       "3 -0.221929  0.062723  0.061458  123.50      0  \n",
       "4  0.502292  0.219422  0.215153   69.99      0  \n",
       "\n",
       "[5 rows x 31 columns]"
      ]
     },
     "execution_count": 3,
     "metadata": {},
     "output_type": "execute_result"
    }
   ],
   "source": [
    "df.head()"
   ]
  },
  {
   "cell_type": "code",
   "execution_count": 4,
   "id": "6e1db276",
   "metadata": {},
   "outputs": [
    {
     "name": "stdout",
     "output_type": "stream",
     "text": [
      "<class 'pandas.core.frame.DataFrame'>\n",
      "RangeIndex: 284807 entries, 0 to 284806\n",
      "Data columns (total 31 columns):\n",
      " #   Column  Non-Null Count   Dtype  \n",
      "---  ------  --------------   -----  \n",
      " 0   Time    284807 non-null  float64\n",
      " 1   V1      284807 non-null  float64\n",
      " 2   V2      284807 non-null  float64\n",
      " 3   V3      284807 non-null  float64\n",
      " 4   V4      284807 non-null  float64\n",
      " 5   V5      284807 non-null  float64\n",
      " 6   V6      284807 non-null  float64\n",
      " 7   V7      284807 non-null  float64\n",
      " 8   V8      284807 non-null  float64\n",
      " 9   V9      284807 non-null  float64\n",
      " 10  V10     284807 non-null  float64\n",
      " 11  V11     284807 non-null  float64\n",
      " 12  V12     284807 non-null  float64\n",
      " 13  V13     284807 non-null  float64\n",
      " 14  V14     284807 non-null  float64\n",
      " 15  V15     284807 non-null  float64\n",
      " 16  V16     284807 non-null  float64\n",
      " 17  V17     284807 non-null  float64\n",
      " 18  V18     284807 non-null  float64\n",
      " 19  V19     284807 non-null  float64\n",
      " 20  V20     284807 non-null  float64\n",
      " 21  V21     284807 non-null  float64\n",
      " 22  V22     284807 non-null  float64\n",
      " 23  V23     284807 non-null  float64\n",
      " 24  V24     284807 non-null  float64\n",
      " 25  V25     284807 non-null  float64\n",
      " 26  V26     284807 non-null  float64\n",
      " 27  V27     284807 non-null  float64\n",
      " 28  V28     284807 non-null  float64\n",
      " 29  Amount  284807 non-null  float64\n",
      " 30  Class   284807 non-null  int64  \n",
      "dtypes: float64(30), int64(1)\n",
      "memory usage: 67.4 MB\n",
      "None\n"
     ]
    }
   ],
   "source": [
    "print(df.info())"
   ]
  },
  {
   "cell_type": "markdown",
   "id": "b83b083e",
   "metadata": {},
   "source": [
    "#### Check and remove duplicated data"
   ]
  },
  {
   "cell_type": "code",
   "execution_count": 5,
   "id": "acdf226d",
   "metadata": {},
   "outputs": [
    {
     "data": {
      "text/plain": [
       "True"
      ]
     },
     "execution_count": 5,
     "metadata": {},
     "output_type": "execute_result"
    }
   ],
   "source": [
    "df.duplicated().any()"
   ]
  },
  {
   "cell_type": "code",
   "execution_count": 6,
   "id": "4856eb92",
   "metadata": {},
   "outputs": [],
   "source": [
    "df=df.drop_duplicates()"
   ]
  },
  {
   "cell_type": "code",
   "execution_count": 7,
   "id": "09afcbf0",
   "metadata": {},
   "outputs": [
    {
     "data": {
      "text/plain": [
       "(283726, 31)"
      ]
     },
     "execution_count": 7,
     "metadata": {},
     "output_type": "execute_result"
    }
   ],
   "source": [
    "df.shape"
   ]
  },
  {
   "cell_type": "markdown",
   "id": "5d17a8c2",
   "metadata": {},
   "source": [
    "#### Print the ratio of fraud vs non fraud cases"
   ]
  },
  {
   "cell_type": "code",
   "execution_count": 8,
   "id": "7b1857b1",
   "metadata": {},
   "outputs": [
    {
     "name": "stdout",
     "output_type": "stream",
     "text": [
      "0    0.998333\n",
      "1    0.001667\n",
      "Name: Class, dtype: float64\n"
     ]
    }
   ],
   "source": [
    "occ = df['Class'].value_counts()\n",
    "\n",
    "print(occ / len(df.index))"
   ]
  },
  {
   "cell_type": "markdown",
   "id": "95f96712",
   "metadata": {},
   "source": [
    "#### Count the occurrences of fraud and no fraud"
   ]
  },
  {
   "cell_type": "code",
   "execution_count": 9,
   "id": "6ed8a612",
   "metadata": {},
   "outputs": [
    {
     "name": "stdout",
     "output_type": "stream",
     "text": [
      "             Fraud         Normal\n",
      "count   473.000000  283253.000000\n",
      "mean    123.871860      88.413575\n",
      "std     260.211041     250.379023\n",
      "min       0.000000       0.000000\n",
      "25%       1.000000       5.670000\n",
      "50%       9.820000      22.000000\n",
      "75%     105.890000      77.460000\n",
      "max    2125.870000   25691.160000\n"
     ]
    }
   ],
   "source": [
    "fraud = df[df['Class'] == 1]\n",
    "normal = df[df['Class'] == 0]\n",
    "summary_stats = pd.concat([fraud['Amount'].describe(), normal['Amount'].describe()], axis=1)\n",
    "summary_stats.columns = ['Fraud', 'Normal']\n",
    "print(summary_stats)"
   ]
  },
  {
   "cell_type": "markdown",
   "id": "b13d99ce",
   "metadata": {},
   "source": [
    "#### Distribution of transaction amounts for fraudulent versus non-fraudulent transactions"
   ]
  },
  {
   "cell_type": "code",
   "execution_count": 10,
   "id": "3475ddc1",
   "metadata": {},
   "outputs": [
    {
     "data": {
      "image/png": "[encoded data removed]",
      "text/plain": [
       "<Figure size 1008x432 with 2 Axes>"
      ]
     },
     "metadata": {
      "needs_background": "light"
     },
     "output_type": "display_data"
    }
   ],
   "source": [
    "import matplotlib.pyplot as plt\n",
    "\n",
    "plt.figure(figsize=(14, 6))\n",
    "\n",
    "plt.subplot(1, 2, 1)\n",
    "plt.hist(fraud['Amount'], bins=50, color='red', alpha=0.7)\n",
    "plt.title('Fraud Transactions')\n",
    "plt.xlabel('Amount')\n",
    "plt.ylabel('Frequency')\n",
    "\n",
    "plt.subplot(1, 2, 2)\n",
    "plt.hist(normal['Amount'], bins=50, color='blue', alpha=0.7)\n",
    "plt.title('Normal Transactions')\n",
    "plt.xlabel('Amount')\n",
    "plt.ylabel('Frequency')\n",
    "\n",
    "plt.tight_layout()\n",
    "plt.show()"
   ]
  },
  {
   "cell_type": "code",
   "execution_count": 11,
   "id": "a761601f",
   "metadata": {},
   "outputs": [
    {
     "data": {
      "image/png": "[encoded data removed]",
      "text/plain": [
       "<Figure size 720x432 with 1 Axes>"
      ]
     },
     "metadata": {
      "needs_background": "light"
     },
     "output_type": "display_data"
    }
   ],
   "source": [
    "plt.figure(figsize=(10, 6))\n",
    "\n",
    "plt.boxplot([fraud['Amount'], normal['Amount']], labels=['Fraud', 'Normal'], patch_artist=True)\n",
    "plt.title('Box Plot of Transaction Amounts')\n",
    "plt.ylabel('Amount')\n",
    "plt.show()"
   ]
  },
  {
   "cell_type": "markdown",
   "id": "bb8d98fc",
   "metadata": {},
   "source": [
    "## Data Preprocessing"
   ]
  },
  {
   "cell_type": "code",
   "execution_count": 16,
   "id": "f9636c1f",
   "metadata": {},
   "outputs": [],
   "source": [
    "# Separate features and target variable\n",
    "X = df.drop('Class', axis=1)\n",
    "y = df['Class']\n",
    "amounts=df['Amount']"
   ]
  },
  {
   "cell_type": "markdown",
   "id": "8220e874",
   "metadata": {},
   "source": [
    "#### Splitting orignial data into the training/testing sets"
   ]
  },
  {
   "cell_type": "code",
   "execution_count": 17,
   "id": "7aa7d186",
   "metadata": {},
   "outputs": [],
   "source": [
    "# Split your data X and y, into a training and a test set and fit the pipeline onto the training data\n",
    "X_train, X_test, y_train, y_test, amounts_train, amounts_test= train_test_split(X, y,amounts, test_size=0.3, random_state=0)"
   ]
  },
  {
   "cell_type": "markdown",
   "id": "c0279aa0",
   "metadata": {},
   "source": [
    "#### Resampling using SMOTE"
   ]
  },
  {
   "cell_type": "code",
   "execution_count": 18,
   "id": "ce57864a",
   "metadata": {},
   "outputs": [],
   "source": [
    "# Apply SMOTE to balance the classes\n",
    "resampling = SMOTE(random_state=0)\n",
    "X_resampled, y_resampled = resampling.fit_resample(X, y)\n",
    "\n",
    "# Combine resampled features and target into a new DataFrame\n",
    "df_resampled = pd.DataFrame(X_resampled, columns=X.columns)\n",
    "df_resampled['Class'] = y_resampled\n",
    "\n",
    "# Split the resampled data into fraudulent and non-fraudulent transactions\n",
    "fraudulent_resampled = df_resampled[df_resampled['Class'] == 1]\n",
    "non_fraudulent_resampled = df_resampled[df_resampled['Class'] == 0]"
   ]
  },
  {
   "cell_type": "code",
   "execution_count": 19,
   "id": "359ab7f6",
   "metadata": {},
   "outputs": [
    {
     "name": "stdout",
     "output_type": "stream",
     "text": [
      "0    283253\n",
      "1       473\n",
      "Name: Class, dtype: int64\n",
      "0    283253\n",
      "1    283253\n",
      "Name: Class, dtype: int64\n"
     ]
    }
   ],
   "source": [
    "# Print the value_counts on the original labels y\n",
    "print(pd.value_counts(pd.Series(y)))\n",
    "\n",
    "# Print the value_counts\n",
    "print(pd.value_counts(pd.Series(y_resampled)))"
   ]
  },
  {
   "cell_type": "code",
   "execution_count": 20,
   "id": "c47217d5",
   "metadata": {
    "scrolled": true
   },
   "outputs": [
    {
     "data": {
      "image/png": "[encoded data removed]",
      "text/plain": [
       "<Figure size 432x288 with 1 Axes>"
      ]
     },
     "metadata": {
      "needs_background": "light"
     },
     "output_type": "display_data"
    }
   ],
   "source": [
    "def plot_data_bar(X, y):\n",
    "    # Count the occurrences of each class\n",
    "    unique, counts = np.unique(y, return_counts=True)\n",
    "    counts_dict = dict(zip(unique, counts))\n",
    "    \n",
    "    # Set up the labels and values for the bar graph\n",
    "    labels = ['Class #0', 'Class #1']\n",
    "    values = [counts_dict.get(0, 0), counts_dict.get(1, 0)]\n",
    "    \n",
    "    # Create the bar graph\n",
    "    plt.bar(labels, values, color=['blue', 'red'], alpha=0.5)\n",
    "    plt.xlabel('Classes')\n",
    "    plt.ylabel('Number of Instances')\n",
    "    plt.title('Class Distribution')\n",
    "    plt.show()\n",
    "\n",
    "plot_data_bar(X_resampled, y_resampled)"
   ]
  },
  {
   "cell_type": "code",
   "execution_count": 21,
   "id": "1a7d19b2",
   "metadata": {},
   "outputs": [
    {
     "name": "stderr",
     "output_type": "stream",
     "text": [
      "C:\\Users\\ibti_\\AppData\\Local\\Temp/ipykernel_8480/2102078920.py:6: SettingWithCopyWarning: \n",
      "A value is trying to be set on a copy of a slice from a DataFrame.\n",
      "Try using .loc[row_indexer,col_indexer] = value instead\n",
      "\n",
      "See the caveats in the documentation: https://pandas.pydata.org/pandas-docs/stable/user_guide/indexing.html#returning-a-view-versus-a-copy\n",
      "  df['AmountBin'] = pd.cut(df['Amount'], bins=bins, labels=labels)\n"
     ]
    },
    {
     "data": {
      "image/png": "[encoded data removed]",
      "text/plain": [
       "<Figure size 1008x504 with 1 Axes>"
      ]
     },
     "metadata": {
      "needs_background": "light"
     },
     "output_type": "display_data"
    }
   ],
   "source": [
    "# Create bins for transaction amounts\n",
    "bins = [0, 10, 50, 100, 500, 1000, 5000, 10000, 20000, 30000]\n",
    "labels = ['0-10', '10-50', '50-100', '100-500', '500-1000', '1000-5000', '5000-10000', '10000-20000', '20000-30000']\n",
    "\n",
    "# Bin the transaction amounts\n",
    "df['AmountBin'] = pd.cut(df['Amount'], bins=bins, labels=labels)\n",
    "\n",
    "# Calculate the probability of fraud for each bin\n",
    "prob_fraud = df.groupby('AmountBin')['Class'].mean()\n",
    "\n",
    "# Plot the probability of fraud for each bin\n",
    "plt.figure(figsize=(14, 7))\n",
    "prob_fraud.plot(kind='bar', color='skyblue')\n",
    "plt.title('Probability of Fraud by Transaction Amount')\n",
    "plt.xlabel('Transaction Amount Range')\n",
    "plt.ylabel('Probability of Fraud')\n",
    "plt.show()"
   ]
  },
  {
   "cell_type": "code",
   "execution_count": 23,
   "id": "7ec7d1b5",
   "metadata": {},
   "outputs": [
    {
     "data": {
      "image/png": "[encoded data removed]",
      "text/plain": [
       "<Figure size 1008x504 with 1 Axes>"
      ]
     },
     "metadata": {
      "needs_background": "light"
     },
     "output_type": "display_data"
    }
   ],
   "source": [
    "# Create bins for transaction amounts\n",
    "bins = [0, 10, 50, 100, 500, 1000, 5000, 10000, 20000, 30000]\n",
    "labels = ['0-10', '10-50', '50-100', '100-500', '500-1000', '1000-5000', '5000-10000', '10000-20000', '20000-30000']\n",
    "\n",
    "# Bin the transaction amounts\n",
    "df_resampled['AmountBin'] = pd.cut(df_resampled['Amount'], bins=bins, labels=labels)\n",
    "\n",
    "# Calculate the probability of fraud for each bin\n",
    "prob_fraud = df_resampled.groupby('AmountBin')['Class'].mean()\n",
    "\n",
    "# Plot the probability of fraud for each bin\n",
    "plt.figure(figsize=(14, 7))\n",
    "prob_fraud.plot(kind='bar', color='skyblue')\n",
    "plt.title('Probability of Fraud by Transaction Amount Resampled')\n",
    "plt.xlabel('Transaction Amount Range')\n",
    "plt.ylabel('Probability of Fraud')\n",
    "plt.show()"
   ]
  },
  {
   "cell_type": "code",
   "execution_count": 24,
   "id": "ad43fe53",
   "metadata": {},
   "outputs": [
    {
     "name": "stdout",
     "output_type": "stream",
     "text": [
      "99.83328986416473\n"
     ]
    }
   ],
   "source": [
    "# Count the total number of observations from the length of y\n",
    "total_obs = len(y)\n",
    "\n",
    "# Count the total number of non-fraudulent observations \n",
    "non_fraud = [i for i in y if i == 0]\n",
    "count_non_fraud = non_fraud.count(0)\n",
    "\n",
    "# Calculate the percentage of non fraud observations in the dataset\n",
    "percentage = (float(count_non_fraud)/float(total_obs)) * 100\n",
    "\n",
    "# Print the percentage: this is our \"natural accuracy\" by doing nothing\n",
    "print(percentage)"
   ]
  },
  {
   "cell_type": "markdown",
   "id": "f543792b",
   "metadata": {},
   "source": [
    "## MODEL ANAYSIS"
   ]
  },
  {
   "cell_type": "markdown",
   "id": "ffe1d59e",
   "metadata": {},
   "source": [
    "#### Pipeline for Logistic Regression"
   ]
  },
  {
   "cell_type": "code",
   "execution_count": 25,
   "id": "4acb5686",
   "metadata": {},
   "outputs": [],
   "source": [
    "model = LogisticRegression( max_iter=1000)\n",
    "pipeline = Pipeline([('SMOTE', resampling), ('Logistic Regression', model)])\n",
    "pipeline.fit(X_train, y_train) \n",
    "predicted = pipeline.predict(X_test)"
   ]
  },
  {
   "cell_type": "markdown",
   "id": "7f93304b",
   "metadata": {},
   "source": [
    "#### Obtain the results from the classification report and confusion matrix "
   ]
  },
  {
   "cell_type": "code",
   "execution_count": 26,
   "id": "0eb59890",
   "metadata": {},
   "outputs": [
    {
     "name": "stdout",
     "output_type": "stream",
     "text": [
      "Classifcation report:\n",
      "               precision    recall  f1-score   support\n",
      "\n",
      "           0       1.00      0.98      0.99     84989\n",
      "           1       0.07      0.88      0.12       129\n",
      "\n",
      "    accuracy                           0.98     85118\n",
      "   macro avg       0.53      0.93      0.56     85118\n",
      "weighted avg       1.00      0.98      0.99     85118\n",
      "\n"
     ]
    }
   ],
   "source": [
    "print('Classifcation report:\\n', classification_report(y_test, predicted))"
   ]
  },
  {
   "cell_type": "code",
   "execution_count": 27,
   "id": "2c24cf00",
   "metadata": {},
   "outputs": [],
   "source": [
    "# Function to plot the confusion matrix\n",
    "def plot_confusion_matrix(y_true, y_pred, title='Confusion Matrix'):\n",
    "    cm = confusion_matrix(y_true, y_pred)\n",
    "    plt.figure(figsize=(8, 6))\n",
    "    sns.heatmap(cm, annot=True, fmt='d', cmap='Blues', xticklabels=['Non-Fraud', 'Fraud'], yticklabels=['Non-Fraud', 'Fraud'])\n",
    "    plt.title(title)\n",
    "    plt.xlabel('Predicted')\n",
    "    plt.ylabel('Actual')\n",
    "    plt.show()"
   ]
  },
  {
   "cell_type": "code",
   "execution_count": 28,
   "id": "53917431",
   "metadata": {},
   "outputs": [
    {
     "data": {
      "image/png": "[encoded data removed]",
      "text/plain": [
       "<Figure size 576x432 with 2 Axes>"
      ]
     },
     "metadata": {
      "needs_background": "light"
     },
     "output_type": "display_data"
    },
    {
     "name": "stdout",
     "output_type": "stream",
     "text": [
      "Confusion matrix:\n",
      " [[83390  1599]\n",
      " [   16   113]]\n"
     ]
    }
   ],
   "source": [
    "plot_confusion_matrix(y_test, predicted, title='Logistic Regression Confusion Matrix')\n",
    "conf_mat = confusion_matrix(y_true=y_test, y_pred=predicted)\n",
    "print('Confusion matrix:\\n', conf_mat)"
   ]
  },
  {
   "cell_type": "markdown",
   "id": "2e0408b0",
   "metadata": {},
   "source": [
    "#### Pipeline for Random Forest"
   ]
  },
  {
   "cell_type": "code",
   "execution_count": 29,
   "id": "47b8d62f",
   "metadata": {},
   "outputs": [],
   "source": [
    "pipeline_rf = Pipeline([\n",
    "    ('smote', SMOTE(random_state=0)),\n",
    "    ('rf', RandomForestClassifier(random_state=5))\n",
    "])\n",
    "# Fit the pipeline to the training data\n",
    "pipeline_rf.fit(X_train, y_train)\n",
    "predicted_rf = pipeline_rf.predict(X_test)"
   ]
  },
  {
   "cell_type": "code",
   "execution_count": 30,
   "id": "685f2b26",
   "metadata": {},
   "outputs": [
    {
     "name": "stdout",
     "output_type": "stream",
     "text": [
      "Accuracy for Random Forest: 0.999424328579149\n"
     ]
    }
   ],
   "source": [
    "from sklearn.metrics import accuracy_score\n",
    "# Print the accuracy performance metric for Random Forest\n",
    "print('Accuracy for Random Forest:', accuracy_score(y_test, predicted_rf))"
   ]
  },
  {
   "cell_type": "code",
   "execution_count": 31,
   "id": "b22a0005",
   "metadata": {},
   "outputs": [],
   "source": [
    "def plot_pr_curve(recall, precision, average_precision):\n",
    "    # Plotting the Precision-Recall curve\n",
    "    plt.figure(figsize=(10, 6))\n",
    "    plt.step(recall, precision, where='post', color='b', alpha=0.7, label=f'Average Precision = {average_precision:.2f}')\n",
    "\n",
    "    plt.fill_between(recall, precision, step='post', alpha=0.3, color='b')\n",
    "\n",
    "    plt.xlabel('Recall')\n",
    "    plt.ylabel('Precision')\n",
    "    plt.title('Precision-Recall Curve')\n",
    "    plt.legend(loc='best')\n",
    "    plt.grid(True)\n",
    "    plt.show()"
   ]
  },
  {
   "cell_type": "code",
   "execution_count": 32,
   "id": "cd274894",
   "metadata": {},
   "outputs": [
    {
     "data": {
      "image/png": "[encoded data removed]",
      "text/plain": [
       "<Figure size 720x432 with 1 Axes>"
      ]
     },
     "metadata": {
      "needs_background": "light"
     },
     "output_type": "display_data"
    }
   ],
   "source": [
    "# Calculate average precision and the PR curve\n",
    "average_precision_rf = average_precision_score(y_test, predicted_rf)\n",
    "\n",
    "# Obtain precision and recall \n",
    "precision_rf, recall_rf, _ = precision_recall_curve(y_test, predicted_rf)\n",
    "\n",
    "# Plot the recall precision tradeoff\n",
    "plot_pr_curve(recall_rf, precision_rf, average_precision_rf)"
   ]
  },
  {
   "cell_type": "code",
   "execution_count": 33,
   "id": "e9c749b5",
   "metadata": {},
   "outputs": [
    {
     "name": "stdout",
     "output_type": "stream",
     "text": [
      "ROC AUC score for Random Forest: 0.9817680464074647\n"
     ]
    }
   ],
   "source": [
    "from sklearn.metrics import roc_auc_score, auc\n",
    "# Obtain model probabilities for ROC AUC score\n",
    "probs_rf = pipeline_rf.predict_proba(X_test)\n",
    "print('ROC AUC score for Random Forest:', roc_auc_score(y_test, probs_rf[:, 1]))"
   ]
  },
  {
   "cell_type": "markdown",
   "id": "11eb714c",
   "metadata": {},
   "source": [
    "#### Obtain the results from the classification report and confusion matrix "
   ]
  },
  {
   "cell_type": "code",
   "execution_count": 34,
   "id": "94a2af8c",
   "metadata": {
    "scrolled": true
   },
   "outputs": [
    {
     "name": "stdout",
     "output_type": "stream",
     "text": [
      "              precision    recall  f1-score   support\n",
      "\n",
      "           0       1.00      1.00      1.00     84989\n",
      "           1       0.83      0.78      0.80       129\n",
      "\n",
      "    accuracy                           1.00     85118\n",
      "   macro avg       0.91      0.89      0.90     85118\n",
      "weighted avg       1.00      1.00      1.00     85118\n",
      "\n"
     ]
    }
   ],
   "source": [
    "print(classification_report(y_test, predicted_rf))"
   ]
  },
  {
   "cell_type": "code",
   "execution_count": 35,
   "id": "92a853c0",
   "metadata": {},
   "outputs": [
    {
     "data": {
      "image/png": "[encoded data removed]",
      "text/plain": [
       "<Figure size 576x432 with 2 Axes>"
      ]
     },
     "metadata": {
      "needs_background": "light"
     },
     "output_type": "display_data"
    },
    {
     "name": "stdout",
     "output_type": "stream",
     "text": [
      "Confusion matrix:\n",
      " [[83390  1599]\n",
      " [   16   113]]\n"
     ]
    }
   ],
   "source": [
    "plot_confusion_matrix(y_test, predicted_rf, title='Random Forest Confusion Matrix')\n",
    "conf_mat_rf = confusion_matrix(y_true=y_test, y_pred=predicted_rf)\n",
    "print('Confusion matrix:\\n', conf_mat)"
   ]
  },
  {
   "cell_type": "markdown",
   "id": "b68e3483",
   "metadata": {},
   "source": [
    "#### Random forest pipeline with GRIDSEARCH for parameter tuning"
   ]
  },
  {
   "cell_type": "code",
   "execution_count": 36,
   "id": "5ec20863",
   "metadata": {},
   "outputs": [
    {
     "name": "stdout",
     "output_type": "stream",
     "text": [
      "Best parameters found by GridSearchCV: {'rf__criterion': 'entropy', 'rf__max_depth': 8, 'rf__max_features': 'log2', 'rf__n_estimators': 10}\n"
     ]
    }
   ],
   "source": [
    "from sklearn.model_selection import GridSearchCV\n",
    "# Define new parameters for Random Forest\n",
    "param_grid = {\n",
    "    'rf__n_estimators': [10, 30],  # Increased lower bound from 1 to 10 for practicality\n",
    "    'rf__max_features': ['auto', 'log2'],\n",
    "    'rf__max_depth': [4, 8],\n",
    "    'rf__criterion': ['gini', 'entropy']\n",
    "}\n",
    "\n",
    "# Combine the parameter sets with the defined model using GridSearchCV\n",
    "grid_search = GridSearchCV(estimator=pipeline_rf, param_grid=param_grid, cv=5, scoring='recall', n_jobs=-1)\n",
    "grid_search.fit(X_train, y_train)\n",
    "print('Best parameters found by GridSearchCV:', grid_search.best_params_)"
   ]
  },
  {
   "cell_type": "code",
   "execution_count": 37,
   "id": "d1ab3011",
   "metadata": {},
   "outputs": [
    {
     "data": {
      "text/html": [
       "<style>#sk-container-id-1 {color: black;background-color: white;}#sk-container-id-1 pre{padding: 0;}#sk-container-id-1 div.sk-toggleable {background-color: white;}#sk-container-id-1 label.sk-toggleable__label {cursor: pointer;display: block;width: 100%;margin-bottom: 0;padding: 0.3em;box-sizing: border-box;text-align: center;}#sk-container-id-1 label.sk-toggleable__label-arrow:before {content: \"▸\";float: left;margin-right: 0.25em;color: #696969;}#sk-container-id-1 label.sk-toggleable__label-arrow:hover:before {color: black;}#sk-container-id-1 div.sk-estimator:hover label.sk-toggleable__label-arrow:before {color: black;}#sk-container-id-1 div.sk-toggleable__content {max-height: 0;max-width: 0;overflow: hidden;text-align: left;background-color: #f0f8ff;}#sk-container-id-1 div.sk-toggleable__content pre {margin: 0.2em;color: black;border-radius: 0.25em;background-color: #f0f8ff;}#sk-container-id-1 input.sk-toggleable__control:checked~div.sk-toggleable__content {max-height: 200px;max-width: 100%;overflow: auto;}#sk-container-id-1 input.sk-toggleable__control:checked~label.sk-toggleable__label-arrow:before {content: \"▾\";}#sk-container-id-1 div.sk-estimator input.sk-toggleable__control:checked~label.sk-toggleable__label {background-color: #d4ebff;}#sk-container-id-1 div.sk-label input.sk-toggleable__control:checked~label.sk-toggleable__label {background-color: #d4ebff;}#sk-container-id-1 input.sk-hidden--visually {border: 0;clip: rect(1px 1px 1px 1px);clip: rect(1px, 1px, 1px, 1px);height: 1px;margin: -1px;overflow: hidden;padding: 0;position: absolute;width: 1px;}#sk-container-id-1 div.sk-estimator {font-family: monospace;background-color: #f0f8ff;border: 1px dotted black;border-radius: 0.25em;box-sizing: border-box;margin-bottom: 0.5em;}#sk-container-id-1 div.sk-estimator:hover {background-color: #d4ebff;}#sk-container-id-1 div.sk-parallel-item::after {content: \"\";width: 100%;border-bottom: 1px solid gray;flex-grow: 1;}#sk-container-id-1 div.sk-label:hover label.sk-toggleable__label {background-color: #d4ebff;}#sk-container-id-1 div.sk-serial::before {content: \"\";position: absolute;border-left: 1px solid gray;box-sizing: border-box;top: 0;bottom: 0;left: 50%;z-index: 0;}#sk-container-id-1 div.sk-serial {display: flex;flex-direction: column;align-items: center;background-color: white;padding-right: 0.2em;padding-left: 0.2em;position: relative;}#sk-container-id-1 div.sk-item {position: relative;z-index: 1;}#sk-container-id-1 div.sk-parallel {display: flex;align-items: stretch;justify-content: center;background-color: white;position: relative;}#sk-container-id-1 div.sk-item::before, #sk-container-id-1 div.sk-parallel-item::before {content: \"\";position: absolute;border-left: 1px solid gray;box-sizing: border-box;top: 0;bottom: 0;left: 50%;z-index: -1;}#sk-container-id-1 div.sk-parallel-item {display: flex;flex-direction: column;z-index: 1;position: relative;background-color: white;}#sk-container-id-1 div.sk-parallel-item:first-child::after {align-self: flex-end;width: 50%;}#sk-container-id-1 div.sk-parallel-item:last-child::after {align-self: flex-start;width: 50%;}#sk-container-id-1 div.sk-parallel-item:only-child::after {width: 0;}#sk-container-id-1 div.sk-dashed-wrapped {border: 1px dashed gray;margin: 0 0.4em 0.5em 0.4em;box-sizing: border-box;padding-bottom: 0.4em;background-color: white;}#sk-container-id-1 div.sk-label label {font-family: monospace;font-weight: bold;display: inline-block;line-height: 1.2em;}#sk-container-id-1 div.sk-label-container {text-align: center;}#sk-container-id-1 div.sk-container {/* jupyter's `normalize.less` sets `[hidden] { display: none; }` but bootstrap.min.css set `[hidden] { display: none !important; }` so we also need the `!important` here to be able to override the default hidden behavior on the sphinx rendered scikit-learn.org. See: https://github.com/scikit-learn/scikit-learn/issues/21755 */display: inline-block !important;position: relative;}#sk-container-id-1 div.sk-text-repr-fallback {display: none;}</style><div id=\"sk-container-id-1\" class=\"sk-top-container\"><div class=\"sk-text-repr-fallback\"><pre>Pipeline(steps=[(&#x27;smote&#x27;, SMOTE(random_state=0)),\n",
       "                (&#x27;rf&#x27;,\n",
       "                 RandomForestClassifier(criterion=&#x27;entropy&#x27;, max_depth=8,\n",
       "                                        max_features=&#x27;log2&#x27;, n_estimators=10,\n",
       "                                        random_state=5))])</pre><b>In a Jupyter environment, please rerun this cell to show the HTML representation or trust the notebook. <br />On GitHub, the HTML representation is unable to render, please try loading this page with nbviewer.org.</b></div><div class=\"sk-container\" hidden><div class=\"sk-item sk-dashed-wrapped\"><div class=\"sk-label-container\"><div class=\"sk-label sk-toggleable\"><input class=\"sk-toggleable__control sk-hidden--visually\" id=\"sk-estimator-id-1\" type=\"checkbox\" ><label for=\"sk-estimator-id-1\" class=\"sk-toggleable__label sk-toggleable__label-arrow\">Pipeline</label><div class=\"sk-toggleable__content\"><pre>Pipeline(steps=[(&#x27;smote&#x27;, SMOTE(random_state=0)),\n",
       "                (&#x27;rf&#x27;,\n",
       "                 RandomForestClassifier(criterion=&#x27;entropy&#x27;, max_depth=8,\n",
       "                                        max_features=&#x27;log2&#x27;, n_estimators=10,\n",
       "                                        random_state=5))])</pre></div></div></div><div class=\"sk-serial\"><div class=\"sk-item\"><div class=\"sk-estimator sk-toggleable\"><input class=\"sk-toggleable__control sk-hidden--visually\" id=\"sk-estimator-id-2\" type=\"checkbox\" ><label for=\"sk-estimator-id-2\" class=\"sk-toggleable__label sk-toggleable__label-arrow\">SMOTE</label><div class=\"sk-toggleable__content\"><pre>SMOTE(random_state=0)</pre></div></div></div><div class=\"sk-item\"><div class=\"sk-estimator sk-toggleable\"><input class=\"sk-toggleable__control sk-hidden--visually\" id=\"sk-estimator-id-3\" type=\"checkbox\" ><label for=\"sk-estimator-id-3\" class=\"sk-toggleable__label sk-toggleable__label-arrow\">RandomForestClassifier</label><div class=\"sk-toggleable__content\"><pre>RandomForestClassifier(criterion=&#x27;entropy&#x27;, max_depth=8, max_features=&#x27;log2&#x27;,\n",
       "                       n_estimators=10, random_state=5)</pre></div></div></div></div></div></div></div>"
      ],
      "text/plain": [
       "Pipeline(steps=[('smote', SMOTE(random_state=0)),\n",
       "                ('rf',\n",
       "                 RandomForestClassifier(criterion='entropy', max_depth=8,\n",
       "                                        max_features='log2', n_estimators=10,\n",
       "                                        random_state=5))])"
      ]
     },
     "execution_count": 37,
     "metadata": {},
     "output_type": "execute_result"
    }
   ],
   "source": [
    "# Update the pipeline with optimal parameters\n",
    "pipeline_rf.set_params(**grid_search.best_params_)\n"
   ]
  },
  {
   "cell_type": "code",
   "execution_count": 38,
   "id": "82887810",
   "metadata": {},
   "outputs": [],
   "source": [
    "# Fit the updated pipeline to the training data\n",
    "pipeline_rf.fit(X_train, y_train)\n",
    "predicted_best_rf = pipeline_rf.predict(X_test)"
   ]
  },
  {
   "cell_type": "markdown",
   "id": "3434f92d",
   "metadata": {},
   "source": [
    "#### Obtain the results from the classification report and confusion matrix "
   ]
  },
  {
   "cell_type": "code",
   "execution_count": 39,
   "id": "7da3713c",
   "metadata": {},
   "outputs": [
    {
     "name": "stdout",
     "output_type": "stream",
     "text": [
      "Final Classification report for Random Forest with best parameters:\n",
      "               precision    recall  f1-score   support\n",
      "\n",
      "           0       1.00      1.00      1.00     84989\n",
      "           1       0.32      0.84      0.47       129\n",
      "\n",
      "    accuracy                           1.00     85118\n",
      "   macro avg       0.66      0.92      0.73     85118\n",
      "weighted avg       1.00      1.00      1.00     85118\n",
      "\n"
     ]
    }
   ],
   "source": [
    "# Print the final model results\n",
    "print('Final Classification report for Random Forest with best parameters:\\n', classification_report(y_test, predicted_best_rf))"
   ]
  },
  {
   "cell_type": "code",
   "execution_count": 40,
   "id": "8b320b15",
   "metadata": {
    "scrolled": true
   },
   "outputs": [
    {
     "name": "stdout",
     "output_type": "stream",
     "text": [
      "Final C#### Obtain the results from the classification report and confusion matrix onfusion matrix for Random Forest with best parameters:\n",
      " [[84761   228]\n",
      " [   20   109]]\n"
     ]
    },
    {
     "data": {
      "image/png": "[encoded data removed]",
      "text/plain": [
       "<Figure size 576x432 with 2 Axes>"
      ]
     },
     "metadata": {
      "needs_background": "light"
     },
     "output_type": "display_data"
    }
   ],
   "source": [
    "print('Final C#### Obtain the results from the classification report and confusion matrix onfusion matrix for Random Forest with best parameters:\\n', confusion_matrix(y_test, predicted_best_rf))\n",
    "plot_confusion_matrix(y_test, predicted_best_rf, title='Optimized Random Forest Confusion Matrix')"
   ]
  },
  {
   "cell_type": "code",
   "execution_count": 41,
   "id": "5b2555c2",
   "metadata": {},
   "outputs": [
    {
     "name": "stdout",
     "output_type": "stream",
     "text": [
      "Final ROC AUC score for Random Forest with best parameters: 0.9826197298127319\n"
     ]
    }
   ],
   "source": [
    "print('Final ROC AUC score for Random Forest with best parameters:', roc_auc_score(y_test, pipeline_rf.predict_proba(X_test)[:, 1]))"
   ]
  },
  {
   "cell_type": "markdown",
   "id": "ba138f1b",
   "metadata": {},
   "source": [
    "The number of false negatives has now been slightly reduced even further, which means we are catching more cases of fraud. However, you see that the number of false positives actually went up, that is that Precision-Recall trade-off in action."
   ]
  },
  {
   "cell_type": "markdown",
   "id": "d3d30c07",
   "metadata": {},
   "source": [
    "#### Pipeline for XGboost Classifier"
   ]
  },
  {
   "cell_type": "code",
   "execution_count": 42,
   "id": "708ad463",
   "metadata": {},
   "outputs": [],
   "source": [
    "pipeline_xg = Pipeline([\n",
    "    ('smote', SMOTE(random_state=0)),\n",
    "    ('rf', XGBClassifier(random_state=5, eta=0.3))\n",
    "])\n",
    "# Fit the pipeline to the training data\n",
    "pipeline_xg.fit(X_train, y_train)\n",
    "predicted_xgb = pipeline_xg.predict(X_test)"
   ]
  },
  {
   "cell_type": "code",
   "execution_count": 43,
   "id": "c3c78682",
   "metadata": {},
   "outputs": [
    {
     "name": "stdout",
     "output_type": "stream",
     "text": [
      "Accuracy for Random Forest: 0.9994125801828051\n"
     ]
    }
   ],
   "source": [
    "from sklearn.metrics import accuracy_score\n",
    "# Print the accuracy performance metric for Random Forest\n",
    "print('Accuracy for Random Forest:', accuracy_score(y_test, predicted_xgb))"
   ]
  },
  {
   "cell_type": "code",
   "execution_count": 44,
   "id": "b8a07ec3",
   "metadata": {},
   "outputs": [],
   "source": [
    "def plot_pr_curve(recall, precision, average_precision):\n",
    "    # Plotting the Precision-Recall curve\n",
    "    plt.figure(figsize=(10, 6))\n",
    "    plt.step(recall, precision, where='post', color='b', alpha=0.7, label=f'Average Precision = {average_precision:.2f}')\n",
    "\n",
    "    plt.fill_between(recall, precision, step='post', alpha=0.3, color='b')\n",
    "\n",
    "    plt.xlabel('Recall')\n",
    "    plt.ylabel('Precision')\n",
    "    plt.title('Precision-Recall Curve')\n",
    "    plt.legend(loc='best')\n",
    "    plt.grid(True)\n",
    "    plt.show()"
   ]
  },
  {
   "cell_type": "code",
   "execution_count": 45,
   "id": "0c9bb372",
   "metadata": {},
   "outputs": [
    {
     "data": {
      "image/png": "[encoded data removed]",
      "text/plain": [
       "<Figure size 720x432 with 1 Axes>"
      ]
     },
     "metadata": {
      "needs_background": "light"
     },
     "output_type": "display_data"
    }
   ],
   "source": [
    "# Calculate average precision and the PR curve\n",
    "average_precision_xg = average_precision_score(y_test, predicted_xgb)\n",
    "\n",
    "# Obtain precision and recall \n",
    "precision_xg, recall_xg, _ = precision_recall_curve(y_test, predicted_xgb)\n",
    "\n",
    "# Plot the recall precision tradeoff\n",
    "plot_pr_curve(recall_xg, precision_xg, average_precision_xg)"
   ]
  },
  {
   "cell_type": "code",
   "execution_count": 46,
   "id": "9406fb64",
   "metadata": {},
   "outputs": [
    {
     "name": "stdout",
     "output_type": "stream",
     "text": [
      "ROC AUC score for XGBoost: 0.9869101163205709\n"
     ]
    }
   ],
   "source": [
    "from sklearn.metrics import roc_auc_score, auc\n",
    "# Obtain model probabilities for ROC AUC score\n",
    "probs_xg = pipeline_xg.predict_proba(X_test)\n",
    "print('ROC AUC score for XGBoost:', roc_auc_score(y_test, probs_xg[:, 1]))"
   ]
  },
  {
   "cell_type": "code",
   "execution_count": 47,
   "id": "e77ffb65",
   "metadata": {},
   "outputs": [
    {
     "name": "stdout",
     "output_type": "stream",
     "text": [
      "              precision    recall  f1-score   support\n",
      "\n",
      "           0       1.00      1.00      1.00     84989\n",
      "           1       0.80      0.81      0.81       129\n",
      "\n",
      "    accuracy                           1.00     85118\n",
      "   macro avg       0.90      0.91      0.90     85118\n",
      "weighted avg       1.00      1.00      1.00     85118\n",
      "\n"
     ]
    }
   ],
   "source": [
    "print(classification_report(y_test, predicted_xgb))"
   ]
  },
  {
   "cell_type": "code",
   "execution_count": 48,
   "id": "8efc856c",
   "metadata": {},
   "outputs": [
    {
     "data": {
      "image/png": "[encoded data removed]",
      "text/plain": [
       "<Figure size 576x432 with 2 Axes>"
      ]
     },
     "metadata": {
      "needs_background": "light"
     },
     "output_type": "display_data"
    },
    {
     "name": "stdout",
     "output_type": "stream",
     "text": [
      "Confusion matrix:\n",
      " [[84963    26]\n",
      " [   24   105]]\n"
     ]
    }
   ],
   "source": [
    "plot_confusion_matrix(y_test, predicted_xgb, title='XGboost Confusion Matrix')\n",
    "conf_mat_xg = confusion_matrix(y_true=y_test, y_pred=predicted_xgb)\n",
    "print('Confusion matrix:\\n', conf_mat_xg)"
   ]
  },
  {
   "cell_type": "markdown",
   "id": "d32512af",
   "metadata": {},
   "source": [
    "### Voting Classifier "
   ]
  },
  {
   "cell_type": "code",
   "execution_count": 49,
   "id": "b19ca5d3",
   "metadata": {},
   "outputs": [],
   "source": [
    "# Import the package\n",
    "from sklearn.ensemble import VotingClassifier \n",
    "\n",
    "# Define the three classifiers to use in the ensemble\n",
    "clf1 = LogisticRegression(class_weight={0:1, 1:15}, random_state=5)\n",
    "clf2 = RandomForestClassifier(class_weight={0:1, 1:12}, criterion='gini', max_depth=8, max_features='log2',\n",
    "            min_samples_leaf=10, n_estimators=30, n_jobs=-1, random_state=5)\n",
    "clf3 = XGBClassifier(scale_pos_weight=15, random_state=5)\n",
    "\n",
    "# Combine the classifiers in the ensemble model\n",
    "ensemble_model = VotingClassifier(estimators=[('lr', clf1), ('rf', clf2), ('xgb', clf3)], voting='hard')"
   ]
  },
  {
   "cell_type": "code",
   "execution_count": 50,
   "id": "6fe84e86",
   "metadata": {},
   "outputs": [],
   "source": [
    "# Define the pipeline with SMOTE and Voting Classifier\n",
    "pipeline_ensemble = Pipeline([\n",
    "    ('smote', SMOTE(random_state=0)),\n",
    "    ('voting', ensemble_model)\n",
    "])"
   ]
  },
  {
   "cell_type": "code",
   "execution_count": 51,
   "id": "4c248bcd",
   "metadata": {},
   "outputs": [
    {
     "name": "stdout",
     "output_type": "stream",
     "text": [
      "Accuracy for Voting Classifier: 0.9785356798796965\n"
     ]
    }
   ],
   "source": [
    "# Fit the pipeline to the training data\n",
    "pipeline_ensemble.fit(X_train, y_train)\n",
    "predicted_ensemble = pipeline_ensemble.predict(X_test)\n",
    "\n",
    "# Print the accuracy performance metric for the Voting Classifier\n",
    "print('Accuracy for Voting Classifier:', accuracy_score(y_test, predicted_ensemble))"
   ]
  },
  {
   "cell_type": "code",
   "execution_count": 52,
   "id": "cabb0c67",
   "metadata": {},
   "outputs": [
    {
     "data": {
      "image/png": "[encoded data removed]",
      "text/plain": [
       "<Figure size 720x432 with 1 Axes>"
      ]
     },
     "metadata": {
      "needs_background": "light"
     },
     "output_type": "display_data"
    }
   ],
   "source": [
    "# Calculate average precision and the PR curve for the Voting Classifier\n",
    "average_precision_ensemble = average_precision_score(y_test, predicted_ensemble)\n",
    "precision_ensemble, recall_ensemble, _ = precision_recall_curve(y_test, predicted_ensemble)\n",
    "plot_pr_curve(recall_ensemble, precision_ensemble, average_precision_ensemble)"
   ]
  },
  {
   "cell_type": "code",
   "execution_count": 53,
   "id": "992bd8c4",
   "metadata": {},
   "outputs": [
    {
     "name": "stdout",
     "output_type": "stream",
     "text": [
      "Classification report for Voting Classifier:\n",
      "               precision    recall  f1-score   support\n",
      "\n",
      "           0       1.00      0.98      0.99     84989\n",
      "           1       0.06      0.89      0.11       129\n",
      "\n",
      "    accuracy                           0.98     85118\n",
      "   macro avg       0.53      0.94      0.55     85118\n",
      "weighted avg       1.00      0.98      0.99     85118\n",
      "\n",
      "Confusion matrix for Voting Classifier:\n",
      " [[83176  1813]\n",
      " [   14   115]]\n"
     ]
    },
    {
     "data": {
      "image/png": "[encoded data removed]",
      "text/plain": [
       "<Figure size 576x432 with 2 Axes>"
      ]
     },
     "metadata": {
      "needs_background": "light"
     },
     "output_type": "display_data"
    }
   ],
   "source": [
    "# Print the ROC curve, classification report, and confusion matrix for the Voting Classifier\n",
    "print('Classification report for Voting Classifier:\\n', classification_report(y_test, predicted_ensemble))\n",
    "print('Confusion matrix for Voting Classifier:\\n', confusion_matrix(y_test, predicted_ensemble))\n",
    "plot_confusion_matrix(y_test, predicted_ensemble, title='Voting Classifier Confusion Matrix')"
   ]
  },
  {
   "cell_type": "markdown",
   "id": "18a9c139",
   "metadata": {},
   "source": [
    "#### Model Matrix Summary"
   ]
  },
  {
   "cell_type": "code",
   "execution_count": 54,
   "id": "92d92669",
   "metadata": {},
   "outputs": [
    {
     "name": "stdout",
     "output_type": "stream",
     "text": [
      "Logistic Regression:\n",
      "  Recall: 88.44%\n",
      "  Precision: 9.75%\n",
      "  F1 Score: 17.57%\n",
      "\n",
      "Random Forest:\n",
      "  Recall: 82.31%\n",
      "  Precision: 88.97%\n",
      "  F1 Score: 85.51%\n",
      "\n",
      "Optimized Random Forest:\n",
      "  Recall: 85.71%\n",
      "  Precision: 48.09%\n",
      "  F1 Score: 61.61%\n",
      "\n",
      "XGBoost:\n",
      "  Recall: 83.67%\n",
      "  Precision: 84.25%\n",
      "  F1 Score: 83.96%\n",
      "\n",
      "Voting Classifier:\n",
      "  Recall: 83.67%\n",
      "  Precision: 64.06%\n",
      "  F1 Score: 72.57%\n",
      "\n"
     ]
    }
   ],
   "source": [
    "# Confusion matrices\n",
    "conf_matrices = {\n",
    "    'Logistic Regression': np.array([[84093, 1203], [17, 130]]),\n",
    "    'Random Forest': np.array([[85281, 15], [26, 121]]),\n",
    "    'Optimized Random Forest': np.array([[85160, 136], [21, 126]]),\n",
    "    'XGBoost': np.array([[85273, 23], [24, 123]]),\n",
    "    'Voting Classifier': np.array([[85227, 69], [24, 123]])\n",
    "}\n",
    "\n",
    "# Function to calculate key metrics from confusion matrix\n",
    "def calculate_metrics(conf_matrix):\n",
    "    TN, FP = conf_matrix[0]\n",
    "    FN, TP = conf_matrix[1]\n",
    "    \n",
    "    recall = TP / (TP + FN)\n",
    "    precision = TP / (TP + FP)\n",
    "    f1 = 2 * (precision * recall) / (precision + recall)\n",
    "    \n",
    "    return recall, precision, f1\n",
    "\n",
    "# Calculate and print metrics for each model\n",
    "metrics = {}\n",
    "\n",
    "for model_name, conf_matrix in conf_matrices.items():\n",
    "    recall, precision, f1 = calculate_metrics(conf_matrix)\n",
    "    metrics[model_name] = {\n",
    "        'Recall': recall,\n",
    "        'Precision': precision,\n",
    "        'F1 Score': f1\n",
    "    }\n",
    "\n",
    "# Display the results\n",
    "for model_name, metric_values in metrics.items():\n",
    "    print(f\"{model_name}:\")\n",
    "    print(f\"  Recall: {metric_values['Recall']:.2%}\")\n",
    "    print(f\"  Precision: {metric_values['Precision']:.2%}\")\n",
    "    print(f\"  F1 Score: {metric_values['F1 Score']:.2%}\")\n",
    "    print()"
   ]
  },
  {
   "cell_type": "code",
   "execution_count": 68,
   "id": "4e9d41c9",
   "metadata": {},
   "outputs": [
    {
     "data": {
      "image/png": "[encoded data removed]",
      "text/plain": [
       "<Figure size 1008x576 with 1 Axes>"
      ]
     },
     "metadata": {},
     "output_type": "display_data"
    }
   ],
   "source": [
    "# Prepare data for visualization\n",
    "models = list(metrics.keys())\n",
    "recall = [metrics[model]['Recall'] * 100 for model in models]\n",
    "precision = [metrics[model]['Precision'] * 100 for model in models]\n",
    "f1_score = [metrics[model]['F1 Score'] * 100 for model in models]\n",
    "\n",
    "# Create a DataFrame for easier plotting\n",
    "data = {\n",
    "    'Model': models,\n",
    "    'Recall': recall,\n",
    "    'Precision': precision,\n",
    "    'F1 Score': f1_score\n",
    "}\n",
    "df = pd.DataFrame(data)\n",
    "\n",
    "# Melt the DataFrame for seaborn\n",
    "df_melted = df.melt(id_vars=['Model'], value_vars=['Recall', 'Precision', 'F1 Score'], var_name='Metric', value_name='Value')\n",
    "\n",
    "# Set the aesthetic style of the plots\n",
    "sns.set_style(\"whitegrid\")\n",
    "\n",
    "# Create a grouped bar chart\n",
    "plt.figure(figsize=(14, 8))\n",
    "ax = sns.barplot(x='Model', y='Value', hue='Metric', data=df_melted, palette='Set2')\n",
    "\n",
    "# Add value labels on top of the bars\n",
    "for p in ax.patches:\n",
    "    ax.annotate(f'{p.get_height():.2f}%', \n",
    "                (p.get_x() + p.get_width() / 2., p.get_height()), \n",
    "                ha = 'center', va = 'center', \n",
    "                xytext = (0, 9), \n",
    "                textcoords = 'offset points')\n",
    "\n",
    "# Set titles and labels\n",
    "plt.title('Performance Metrics of Different Models')\n",
    "plt.xlabel('Model')\n",
    "plt.ylabel('Percentage')\n",
    "plt.legend(title='Metric')\n",
    "\n",
    "# Show the plot\n",
    "plt.tight_layout()\n",
    "plt.show()"
   ]
  },
  {
   "cell_type": "markdown",
   "id": "0322dea5",
   "metadata": {},
   "source": [
    "#### Calculating potential savings from prevented fraud and compare it to losses from undetected fraudulent transactions."
   ]
  },
  {
   "cell_type": "code",
   "execution_count": 70,
   "id": "0183f843",
   "metadata": {},
   "outputs": [
    {
     "name": "stdout",
     "output_type": "stream",
     "text": [
      "Total Fraudulent Amount: $20006.74\n",
      "Potential Savings from Detected Fraud: $16735.95\n",
      "Losses from Undetected Fraud: $3270.79\n"
     ]
    }
   ],
   "source": [
    "import numpy as np\n",
    "\n",
    "# Function to calculate savings and losses\n",
    "def calculate_savings_and_losses(y_true, y_pred, amounts):\n",
    "    cm = confusion_matrix(y_true, y_pred)\n",
    "    TN, FP, FN, TP = cm.ravel()\n",
    "\n",
    "    # Calculate total fraudulent amount\n",
    "    total_fraud_amount = amounts[y_true == 1].sum()\n",
    "\n",
    "    # Calculate amount of detected fraud\n",
    "    detected_fraud_amount = amounts[(y_true == 1) & (y_pred == 1)].sum()\n",
    "\n",
    "    # Calculate amount of undetected fraud\n",
    "    undetected_fraud_amount = amounts[(y_true == 1) & (y_pred == 0)].sum()\n",
    "\n",
    "    # Calculate potential savings and losses\n",
    "    potential_savings = detected_fraud_amount\n",
    "    losses_from_undetected_fraud = undetected_fraud_amount\n",
    "\n",
    "    return potential_savings, losses_from_undetected_fraud, total_fraud_amount\n",
    "\n",
    "# Assuming you have the actual labels and predictions from your model\n",
    "y_true = y_test\n",
    "y_pred = predicted_xgb  # Model predictions\n",
    "\n",
    "\n",
    "# Calculate savings and losses\n",
    "potential_savings, losses_from_undetected_fraud, total_fraud_amount = calculate_savings_and_losses(y_true, y_pred, amounts_test)\n",
    "\n",
    "print(f\"Total Fraudulent Amount: ${total_fraud_amount:.2f}\")\n",
    "print(f\"Potential Savings from Detected Fraud: ${potential_savings:.2f}\")\n",
    "print(f\"Losses from Undetected Fraud: ${losses_from_undetected_fraud:.2f}\")"
   ]
  },
  {
   "cell_type": "markdown",
   "id": "cabaae3b",
   "metadata": {},
   "source": [
    "# Conclusion"
   ]
  },
  {
   "cell_type": "markdown",
   "id": "d7dd9475",
   "metadata": {},
   "source": [
    "Logistic Regression has the highest recall (88.44%), meaning it catches more fraudulent transactions. However, its precision is very low (9.75%), indicating many false positives.\n",
    "\n",
    "Best Model Recommendation: Random Forest appears to be the best overall model. \n",
    "\n",
    "It has:\n",
    "\n",
    "High Precision (88.97%): Meaning it has a low false positive rate.\\\n",
    "Good Recall (82.31%): Meaning it correctly identifies a significant portion of fraudulent transactions.\\\n",
    "Highest F1 Score (85.51%): Indicating a good balance between precision and recall.\n",
    "\n",
    "Based on my analysis, the total fraudulent amount detected in the dataset is \\$20,006\\.74\n",
    "\n",
    "The potential savings from detecting fraudulent transactions using the model are estimated to be \\$16\\,735\n",
    "\n",
    "while the losses from undetected fraud are \\$3,270.\n",
    "\n",
    "It's important to note that these values should be taken with a grain of salt since the data was resampled. This resampling was necessary to balance the dataset for training the model and does not reflect the actual distribution of transactions. Therefore, the numbers presented here are indicative of how the model can help in identifying potential savings by detecting fraudulent transactions, rather than exact figures."
   ]
  }
 ],
 "metadata": {
  "kernelspec": {
   "display_name": "Python 3 (ipykernel)",
   "language": "python",
   "name": "python3"
  },
  "language_info": {
   "codemirror_mode": {
    "name": "ipython",
    "version": 3
   },
   "file_extension": ".py",
   "mimetype": "text/x-python",
   "name": "python",
   "nbconvert_exporter": "python",
   "pygments_lexer": "ipython3",
   "version": "3.9.7"
  }
 },
 "nbformat": 4,
 "nbformat_minor": 5
}
